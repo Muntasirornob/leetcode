{
  "cells": [
    {
      "cell_type": "markdown",
      "id": "cf275ca7",
      "metadata": {
        "id": "cf275ca7"
      },
      "source": [
        "### Step 0: Import Libraries"
      ]
    },
    {
      "cell_type": "code",
      "execution_count": 184,
      "id": "2b67a661",
      "metadata": {
        "id": "2b67a661"
      },
      "outputs": [],
      "source": [
        "import numpy as np\n",
        "import pandas as pd\n",
        "import matplotlib.pyplot as plt\n",
        "import seaborn as sns\n"
      ]
    },
    {
      "cell_type": "markdown",
      "id": "5f9d33a8",
      "metadata": {
        "id": "5f9d33a8"
      },
      "source": [
        "### Step 1: Data Input (1 mark)\n",
        "\n",
        "The data used for this task can be downloaded using the yellowbrick library:\n",
        "https://www.scikit-yb.org/en/latest/api/datasets/spam.html\n",
        "\n",
        "Use the yellowbrick function `load_spam()` to load the spam dataset into the feature matrix `X` and target vector `y`.\n",
        "\n",
        "Print the size and type of `X` and `y`."
      ]
    },
    {
      "cell_type": "code",
      "execution_count": 185,
      "id": "33583c67",
      "metadata": {
        "colab": {
          "base_uri": "https://localhost:8080/"
        },
        "id": "33583c67",
        "outputId": "9e52f66f-dc0f-49a6-87df-1fbe989b3291"
      },
      "outputs": [
        {
          "name": "stdout",
          "output_type": "stream",
          "text": [
            "Type of X: <class 'pandas.core.frame.DataFrame'>\n",
            "Size of X: (4600, 57)\n",
            "Type of y: <class 'pandas.core.series.Series'>\n",
            "Size of y: (4600,)\n"
          ]
        }
      ],
      "source": [
        "# TO DO: Import spam dataset from yellowbrick library (0.5 marks)\n",
        "\n",
        "from yellowbrick.datasets import load_spam\n",
        "\n",
        "# Load the spam dataset\n",
        "(X,y) = load_spam()\n",
        "\n",
        "# TO DO: Print size and type of X and y (0.5 marks)\n",
        "print(\"Type of X:\", type(X))\n",
        "print(\"Size of X:\", X.shape)\n",
        "print(\"Type of y:\", type(y))\n",
        "print(\"Size of y:\", y.shape)"
      ]
    },
    {
      "cell_type": "code",
      "execution_count": 185,
      "id": "AGB1jxg5Jnw_",
      "metadata": {
        "id": "AGB1jxg5Jnw_"
      },
      "outputs": [],
      "source": []
    },
    {
      "cell_type": "markdown",
      "id": "156db208",
      "metadata": {
        "id": "156db208"
      },
      "source": [
        "### Step 2: Data Processing (2 marks)\n",
        "\n",
        "Check to see if there are any missing values in the dataset. If necessary, select an appropriate method to fill-in the missing values."
      ]
    },
    {
      "cell_type": "code",
      "execution_count": 186,
      "id": "4e7204f5",
      "metadata": {
        "colab": {
          "base_uri": "https://localhost:8080/"
        },
        "id": "4e7204f5",
        "outputId": "5d09fb00-0db3-4d5b-bcdb-6b2847431105"
      },
      "outputs": [
        {
          "name": "stdout",
          "output_type": "stream",
          "text": [
            "False\n",
            "False\n"
          ]
        }
      ],
      "source": [
        "# TO DO: Check if there are any missing values and fill them in if necessary (1 mark)\n",
        "print(X.isnull().values.any())\n",
        "print(y.isnull().values.any())"
      ]
    },
    {
      "cell_type": "markdown",
      "id": "a489285a",
      "metadata": {
        "id": "a489285a"
      },
      "source": [
        "For this task, we want to test if the linear model would still work if we used less data. Use the `train_test_split` function from sklearn to create a new feature matrix named `X_small` and a new target vector named `y_small` that contain **3%** of the data."
      ]
    },
    {
      "cell_type": "code",
      "execution_count": 187,
      "id": "f9bc4a23",
      "metadata": {
        "id": "f9bc4a23"
      },
      "outputs": [],
      "source": [
        "from sklearn.model_selection import train_test_split\n",
        "# TO DO: Create X_small and y_small (1 mark)\n",
        "X_train, X_test, y_train, y_test=train_test_split(X, y, test_size=0.03, random_state=0)\n",
        "X_small=X_train\n",
        "y_small=y_train"
      ]
    },
    {
      "cell_type": "markdown",
      "id": "70e6c46f",
      "metadata": {
        "id": "70e6c46f"
      },
      "source": [
        "### Step 3: Implement Machine Learning Model\n",
        "\n",
        "1. Import `LogisticRegression` from sklearn\n",
        "2. Instantiate model `LogisticRegression(max_iter=2000)`\n",
        "3. Implement the machine learning model with three different datasets:\n",
        "    - `X` and `y`\n",
        "    - Only first two columns of `X` and `y`\n",
        "    - `X_small` and `y_small`"
      ]
    },
    {
      "cell_type": "markdown",
      "id": "0870b0d2",
      "metadata": {
        "id": "0870b0d2"
      },
      "source": [
        "### Step 4: Validate Model\n",
        "\n",
        "Calculate the training and validation accuracy for the three different tests implemented in Step 3"
      ]
    },
    {
      "cell_type": "markdown",
      "id": "bb0bbd83",
      "metadata": {
        "id": "bb0bbd83"
      },
      "source": [
        "### Step 5.1: Visualize Results (4 marks)\n",
        "\n",
        "1. Create a pandas DataFrame `results` with columns: Data size, training accuracy, validation accuracy\n",
        "2. Add the data size, training and validation accuracy for each dataset to the `results` DataFrame\n",
        "3. Print `results`"
      ]
    },
    {
      "cell_type": "code",
      "execution_count": 188,
      "id": "be4b5c0a",
      "metadata": {
        "colab": {
          "base_uri": "https://localhost:8080/"
        },
        "id": "be4b5c0a",
        "outputId": "3195ba86-7ba5-4792-9296-d86989a75028"
      },
      "outputs": [
        {
          "name": "stdout",
          "output_type": "stream",
          "text": [
            "Training set score: 0.928\n",
            "Validation set score: 0.935\n",
            "Training set score: 0.611\n",
            "Validation set score: 0.607\n",
            "Training set score: 0.933\n",
            "Validation set score: 0.928\n"
          ]
        }
      ],
      "source": [
        "# TO DO: ADD YOUR CODE HERE FOR STEPS 3-5\n",
        "# Note: for any random state parameters, you can use random_state = 0\n",
        "# HINT: USING A LOOP TO STORE THE DATA IN YOUR RESULTS DATAFRAME WILL BE MORE EFFICIENT\n",
        "from sklearn.linear_model import LogisticRegression\n",
        "from sklearn.metrics import accuracy_score\n",
        "X1_train, X1_test, y1_train, y1_test = train_test_split(X, y, test_size=0.3, random_state=0)\n",
        "logreg = LogisticRegression(max_iter=2000).fit(X1_train, y1_train)\n",
        "print(\"Training set score: {:.3f}\".format(logreg.score(X1_train, y1_train)))\n",
        "print(\"Validation set score: {:.3f}\".format(logreg.score(X1_test, y1_test)))\n",
        "\n",
        "\n",
        "X2_train, X2_test, y2_train, y2_test = train_test_split(X.iloc[:, 0:2], y, test_size=0.3, random_state=0)\n",
        "logreg_2 = LogisticRegression(max_iter=2000).fit(X2_train, y2_train)\n",
        "print(\"Training set score: {:.3f}\".format(logreg_2.score(X2_train, y2_train)))\n",
        "print(\"Validation set score: {:.3f}\".format(logreg_2.score(X2_test, y2_test)))\n",
        "\n",
        "\n",
        "X_train, X_test, y_train, y_test=train_test_split(X, y, test_size=0.03, random_state=0)\n",
        "X_small=X_train\n",
        "y_small=y_train\n",
        "logreg_3 = LogisticRegression(max_iter=2000).fit(X_small, y_small)\n",
        "print(\"Training set score: {:.3f}\".format(logreg_3.score(X_small, y_small)))\n",
        "print(\"Validation set score: {:.3f}\".format(logreg_3.score(X_test, y_test)))\n",
        "\n",
        "\n",
        "\n",
        "# Create an empty DataFrame to store results\n",
        "results = pd.DataFrame(columns=['Data size', 'Training accuracy', 'Validation accuracy'])\n",
        "# model1 Accuracy\n",
        "m1_training_accuracy = logreg.score(X1_train, y1_train)\n",
        "m1_validation_accuracy = logreg.score(X1_test, y1_test)\n",
        "\n",
        "# model2 Accuracy\n",
        "m2_training_accuracy = logreg_2.score(X2_train, y2_train)\n",
        "m2_validation_accuracy = logreg_2.score(X2_test, y2_test)\n",
        "\n",
        "# model3 Accuracy\n",
        "m3_training_accuracy = logreg_3.score(X_small, y_small)\n",
        "m3_validation_accuracy = logreg_3.score(X_test, y_test)\n",
        "d = {'Data size': [X.size, X.iloc[:, 0:2].size, X_small.size], 'training accuracy': [m1_training_accuracy, m2_training_accuracy, m3_training_accuracy], 'validation accuracy': [m1_validation_accuracy, m2_validation_accuracy, m3_validation_accuracy]}\n",
        "results = pd.DataFrame(data=d)\n",
        "\n",
        "\n"
      ]
    },
    {
      "cell_type": "markdown",
      "id": "cf13a54f",
      "metadata": {
        "id": "cf13a54f"
      },
      "source": [
        "### Step 5.2: Visualize Classification Errors (3 marks)"
      ]
    },
    {
      "cell_type": "markdown",
      "id": "6022252f",
      "metadata": {
        "id": "6022252f"
      },
      "source": [
        "In this section, print the confusion matrix and the classification report to investigate the number of false positives vs. false negatives. Use the full dataset for this analysis"
      ]
    },
    {
      "cell_type": "code",
      "execution_count": 189,
      "id": "81931e5f",
      "metadata": {
        "id": "81931e5f"
      },
      "outputs": [],
      "source": [
        "# TO DO: Retrieve target vector and predicted values for validation set using full dataset\n",
        "y1_predict = logreg.predict(X1_test)\n",
        "y2_predict = logreg_2.predict(X2_test)\n",
        "y3_predict = logreg_3.predict(X_test)"
      ]
    },
    {
      "cell_type": "code",
      "execution_count": 190,
      "id": "e4cb30f1",
      "metadata": {
        "colab": {
          "base_uri": "https://localhost:8080/",
          "height": 520
        },
        "id": "e4cb30f1",
        "outputId": "0fa0ded2-12ed-4851-e527-0dc918a3380d"
      },
      "outputs": [
        {
          "data": {
            "text/plain": [
              "Text(70.72222222222221, 0.5, 'True Value')"
            ]
          },
          "execution_count": 190,
          "metadata": {},
          "output_type": "execute_result"
        },
        {
          "data": {
            "image/png": "[encoded data removed]",
            "text/plain": [
              "<Figure size 800x550 with 2 Axes>"
            ]
          },
          "metadata": {},
          "output_type": "display_data"
        }
      ],
      "source": [
        "# TO DO: Print confusion matrix using a heatmap\n",
        "# HINT: To remove scientific notation from a heatmap, set the parameter fmt='d'\n",
        "from sklearn.metrics import confusion_matrix\n",
        "# Calculate confusion matrix1\n",
        "cm1 = confusion_matrix(y1_test, y1_predict)\n",
        "sns.heatmap(cm1, annot=True, fmt='d', xticklabels=['not spam', 'is spam'], yticklabels=['not spam', 'is spam'])\n",
        "plt.xlabel('Predicted Value')\n",
        "plt.ylabel('True Value')\n",
        "\n",
        "\n"
      ]
    },
    {
      "cell_type": "code",
      "execution_count": 191,
      "id": "FsKnsR7KyEFd",
      "metadata": {
        "colab": {
          "base_uri": "https://localhost:8080/",
          "height": 524
        },
        "id": "FsKnsR7KyEFd",
        "outputId": "a29f9857-e069-4b28-d3a7-caf585377111"
      },
      "outputs": [
        {
          "data": {
            "text/plain": [
              "Text(70.72222222222221, 0.5, 'True Value')"
            ]
          },
          "execution_count": 191,
          "metadata": {},
          "output_type": "execute_result"
        },
        {
          "data": {
            "image/png": "[encoded data removed]",
            "text/plain": [
              "<Figure size 800x550 with 2 Axes>"
            ]
          },
          "metadata": {},
          "output_type": "display_data"
        }
      ],
      "source": [
        "cm2 = confusion_matrix(y2_test, y2_predict)\n",
        "sns.heatmap(cm2, annot=True, fmt='d', xticklabels=['not spam', 'is spam'], yticklabels=['not spam', 'is spam'])\n",
        "plt.xlabel('Predicted Value')\n",
        "plt.ylabel('True Value')"
      ]
    },
    {
      "cell_type": "code",
      "execution_count": 192,
      "id": "xgTNOyWXyVZv",
      "metadata": {
        "colab": {
          "base_uri": "https://localhost:8080/",
          "height": 526
        },
        "id": "xgTNOyWXyVZv",
        "outputId": "8effd817-0141-489a-d422-345eaf762c0a"
      },
      "outputs": [
        {
          "data": {
            "text/plain": [
              "Text(70.72222222222221, 0.5, 'True Value')"
            ]
          },
          "execution_count": 192,
          "metadata": {},
          "output_type": "execute_result"
        },
        {
          "data": {
            "image/png": "[encoded data removed]",
            "text/plain": [
              "<Figure size 800x550 with 2 Axes>"
            ]
          },
          "metadata": {},
          "output_type": "display_data"
        }
      ],
      "source": [
        "cm3 = confusion_matrix(y_test, y3_predict)\n",
        "sns.heatmap(cm3, annot=True, fmt='d', xticklabels=['not spam', 'is spam'], yticklabels=['not spam', 'is spam'])\n",
        "plt.xlabel('Predicted Value')\n",
        "plt.ylabel('True Value')"
      ]
    },
    {
      "cell_type": "code",
      "execution_count": 193,
      "id": "0bfb397c",
      "metadata": {
        "colab": {
          "base_uri": "https://localhost:8080/"
        },
        "id": "0bfb397c",
        "outputId": "a8073f2f-b550-4392-b8bf-8b5763700730"
      },
      "outputs": [
        {
          "name": "stdout",
          "output_type": "stream",
          "text": [
            "              precision    recall  f1-score   support\n",
            "\n",
            "           0       0.94      0.95      0.95       822\n",
            "           1       0.93      0.91      0.92       558\n",
            "\n",
            "    accuracy                           0.93      1380\n",
            "   macro avg       0.93      0.93      0.93      1380\n",
            "weighted avg       0.93      0.93      0.93      1380\n",
            "\n",
            "              precision    recall  f1-score   support\n",
            "\n",
            "           0       0.61      0.98      0.75       822\n",
            "           1       0.65      0.06      0.11       558\n",
            "\n",
            "    accuracy                           0.61      1380\n",
            "   macro avg       0.63      0.52      0.43      1380\n",
            "weighted avg       0.62      0.61      0.49      1380\n",
            "\n",
            "              precision    recall  f1-score   support\n",
            "\n",
            "           0       0.92      0.96      0.94        83\n",
            "           1       0.94      0.87      0.91        55\n",
            "\n",
            "    accuracy                           0.93       138\n",
            "   macro avg       0.93      0.92      0.92       138\n",
            "weighted avg       0.93      0.93      0.93       138\n",
            "\n"
          ]
        }
      ],
      "source": [
        "# TO DO: Print classification report\n",
        "from sklearn.metrics import classification_report\n",
        "\n",
        "print(classification_report(y1_test, y1_predict))\n",
        "print(classification_report(y2_test, y2_predict))\n",
        "print(classification_report(y_test, y3_predict))"
      ]
    },
    {
      "cell_type": "markdown",
      "id": "bf319621",
      "metadata": {
        "id": "bf319621"
      },
      "source": [
        "### Questions (6 marks)\n",
        "1. How do the training and validation accuracy change depending on the amount of data used? Explain with values.\n",
        "1. In this case, what do a false positive and a false negative represent? Which one is worse?\n",
        "1. Based on your answer to question 2, would you want to maximize precision or recall? How would you do this?\n",
        "\n",
        "*ANSWER HERE*\n",
        "1.If the training data is smaller, the training score should increase and the validation score should decrease. In contrast, if the training data increases, the validation score goes up in comparison.\n",
        "\n",
        "2.Emails that are spam but were wrongly classified as such are called false negatives in the dataset's definition, while emails that are non-spam but are classified as spam are called false positives. False negatives are more problematic because important emails could be wrongly marked as spam and ignored as a result.\n",
        "\n",
        "3.We would want to maximize accuracy in order to decrease false negatives since accuracy is the ratio of true positives to the sum of true positives and false positive predictions generated by the model. It can be done by decreasing the false negative values, which will eventually increase the recall value."
      ]
    },
    {
      "cell_type": "markdown",
      "id": "664ff8ae",
      "metadata": {
        "id": "664ff8ae"
      },
      "source": [
        "### Process Description (4 marks)\n",
        "Please describe the process you used to create your code. Cite any websites or generative AI tools used. You can use the following questions as guidance:\n",
        "1. Where did you source your code?\n",
        "1. In what order did you complete the steps?\n",
        "1. If you used generative AI, what prompts did you use? Did you need to modify the code at all? Why or why not?\n",
        "1. Did you have any challenges? If yes, what were they? If not, what helped you to be successful?\n",
        "\n",
        "\n"
      ]
    },
    {
      "cell_type": "markdown",
      "id": "d0e837da",
      "metadata": {
        "id": "d0e837da"
      },
      "source": [
        "*DESCRIBE YOUR PROCESS HERE - BE SPECIFIC*\n",
        "\n",
        "I mostly source my code from the examples that our proffessor provided and also searched in google for relative context.For further confusions I took chat gpt to check if i am going in the correct deriction for my answer.As for the steps I did in order as the questions appear.While using generative AI specially chat gpt it was sometimes confusing .For example I put a wrong varible in one case and when I try to test it with chatgpt it said my problem was that I was trying classifiaction with continous values intead I can try regression!"
      ]
    },
    {
      "cell_type": "markdown",
      "id": "5ee2d2c3",
      "metadata": {
        "id": "5ee2d2c3"
      },
      "source": [
        "## Part 2: Regression (15 marks)\n",
        "\n",
        "For this section, we will be evaluating concrete compressive strength of different concrete samples, based on age and ingredients. You will need to repeat the steps from Part 1 for this analysis."
      ]
    },
    {
      "cell_type": "markdown",
      "id": "8219f163",
      "metadata": {
        "id": "8219f163"
      },
      "source": [
        "### Step 1: Data Input (1 mark)\n",
        "\n",
        "The data used for this task can be downloaded using the yellowbrick library:\n",
        "https://www.scikit-yb.org/en/latest/api/datasets/concrete.html\n",
        "\n",
        "Use the yellowbrick function `load_concrete()` to load the spam dataset into the feature matrix `X` and target vector `y`.\n",
        "\n",
        "Print the size and type of `X` and `y`."
      ]
    },
    {
      "cell_type": "code",
      "execution_count": 194,
      "id": "2af8bd32",
      "metadata": {
        "colab": {
          "base_uri": "https://localhost:8080/"
        },
        "id": "2af8bd32",
        "outputId": "8d00e414-d9c8-45a2-a138-b8c318a7fd7a"
      },
      "outputs": [
        {
          "name": "stdout",
          "output_type": "stream",
          "text": [
            "Type of X: <class 'pandas.core.frame.DataFrame'>\n",
            "Size of X: (1030, 8)\n",
            "Type of y: <class 'pandas.core.series.Series'>\n",
            "Size of y: (1030,)\n"
          ]
        }
      ],
      "source": [
        "# TO DO: Import concrete dataset from yellowbrick library (0.5 marks)\n",
        "\n",
        "# TO DO: Print size and type of X and y (0.5 marks)\n",
        "from yellowbrick.datasets import load_concrete\n",
        "(X, y) = load_concrete()\n",
        "\n",
        "# TO DO: Print size and type of X and y (0.5 marks)\n",
        "print(\"Type of X:\", type(X))\n",
        "print(\"Size of X:\", X.shape)\n",
        "print(\"Type of y:\", type(y))\n",
        "print(\"Size of y:\", y.shape)"
      ]
    },
    {
      "cell_type": "markdown",
      "id": "42fea4cc",
      "metadata": {
        "id": "42fea4cc"
      },
      "source": [
        "### Step 2: Data Processing (1 mark)\n",
        "\n",
        "Check to see if there are any missing values in the dataset. If necessary, select an appropriate method to fill-in the missing values."
      ]
    },
    {
      "cell_type": "code",
      "execution_count": 195,
      "id": "06fc9c0f",
      "metadata": {
        "colab": {
          "base_uri": "https://localhost:8080/"
        },
        "id": "06fc9c0f",
        "outputId": "fc72aff7-502b-435e-ddcd-4d7b2f4a8f35"
      },
      "outputs": [
        {
          "name": "stdout",
          "output_type": "stream",
          "text": [
            "False\n",
            "False\n"
          ]
        }
      ],
      "source": [
        "# TO DO: Check if there are any missing values and fill them in if necessary\n",
        "print(X.isnull().values.any())\n",
        "print(y.isnull().values.any())"
      ]
    },
    {
      "cell_type": "markdown",
      "id": "2a245d00",
      "metadata": {
        "id": "2a245d00"
      },
      "source": [
        "### Step 3: Implement Machine Learning Model (2 marks)\n",
        "\n",
        "1. Import `LinearRegression` from sklearn\n",
        "2. Instantiate model `LinearRegression()`\n",
        "3. Implement the machine learning model with `X` and `y`"
      ]
    },
    {
      "cell_type": "code",
      "execution_count": 196,
      "id": "ba4da0b9",
      "metadata": {
        "colab": {
          "base_uri": "https://localhost:8080/",
          "height": 74
        },
        "id": "ba4da0b9",
        "outputId": "0033c238-cc5b-480f-9214-42e7bfcc5183"
      },
      "outputs": [
        {
          "data": {
            "text/html": [
              "<style>#sk-container-id-13 {color: black;background-color: white;}#sk-container-id-13 pre{padding: 0;}#sk-container-id-13 div.sk-toggleable {background-color: white;}#sk-container-id-13 label.sk-toggleable__label {cursor: pointer;display: block;width: 100%;margin-bottom: 0;padding: 0.3em;box-sizing: border-box;text-align: center;}#sk-container-id-13 label.sk-toggleable__label-arrow:before {content: \"▸\";float: left;margin-right: 0.25em;color: #696969;}#sk-container-id-13 label.sk-toggleable__label-arrow:hover:before {color: black;}#sk-container-id-13 div.sk-estimator:hover label.sk-toggleable__label-arrow:before {color: black;}#sk-container-id-13 div.sk-toggleable__content {max-height: 0;max-width: 0;overflow: hidden;text-align: left;background-color: #f0f8ff;}#sk-container-id-13 div.sk-toggleable__content pre {margin: 0.2em;color: black;border-radius: 0.25em;background-color: #f0f8ff;}#sk-container-id-13 input.sk-toggleable__control:checked~div.sk-toggleable__content {max-height: 200px;max-width: 100%;overflow: auto;}#sk-container-id-13 input.sk-toggleable__control:checked~label.sk-toggleable__label-arrow:before {content: \"▾\";}#sk-container-id-13 div.sk-estimator input.sk-toggleable__control:checked~label.sk-toggleable__label {background-color: #d4ebff;}#sk-container-id-13 div.sk-label input.sk-toggleable__control:checked~label.sk-toggleable__label {background-color: #d4ebff;}#sk-container-id-13 input.sk-hidden--visually {border: 0;clip: rect(1px 1px 1px 1px);clip: rect(1px, 1px, 1px, 1px);height: 1px;margin: -1px;overflow: hidden;padding: 0;position: absolute;width: 1px;}#sk-container-id-13 div.sk-estimator {font-family: monospace;background-color: #f0f8ff;border: 1px dotted black;border-radius: 0.25em;box-sizing: border-box;margin-bottom: 0.5em;}#sk-container-id-13 div.sk-estimator:hover {background-color: #d4ebff;}#sk-container-id-13 div.sk-parallel-item::after {content: \"\";width: 100%;border-bottom: 1px solid gray;flex-grow: 1;}#sk-container-id-13 div.sk-label:hover label.sk-toggleable__label {background-color: #d4ebff;}#sk-container-id-13 div.sk-serial::before {content: \"\";position: absolute;border-left: 1px solid gray;box-sizing: border-box;top: 0;bottom: 0;left: 50%;z-index: 0;}#sk-container-id-13 div.sk-serial {display: flex;flex-direction: column;align-items: center;background-color: white;padding-right: 0.2em;padding-left: 0.2em;position: relative;}#sk-container-id-13 div.sk-item {position: relative;z-index: 1;}#sk-container-id-13 div.sk-parallel {display: flex;align-items: stretch;justify-content: center;background-color: white;position: relative;}#sk-container-id-13 div.sk-item::before, #sk-container-id-13 div.sk-parallel-item::before {content: \"\";position: absolute;border-left: 1px solid gray;box-sizing: border-box;top: 0;bottom: 0;left: 50%;z-index: -1;}#sk-container-id-13 div.sk-parallel-item {display: flex;flex-direction: column;z-index: 1;position: relative;background-color: white;}#sk-container-id-13 div.sk-parallel-item:first-child::after {align-self: flex-end;width: 50%;}#sk-container-id-13 div.sk-parallel-item:last-child::after {align-self: flex-start;width: 50%;}#sk-container-id-13 div.sk-parallel-item:only-child::after {width: 0;}#sk-container-id-13 div.sk-dashed-wrapped {border: 1px dashed gray;margin: 0 0.4em 0.5em 0.4em;box-sizing: border-box;padding-bottom: 0.4em;background-color: white;}#sk-container-id-13 div.sk-label label {font-family: monospace;font-weight: bold;display: inline-block;line-height: 1.2em;}#sk-container-id-13 div.sk-label-container {text-align: center;}#sk-container-id-13 div.sk-container {/* jupyter's `normalize.less` sets `[hidden] { display: none; }` but bootstrap.min.css set `[hidden] { display: none !important; }` so we also need the `!important` here to be able to override the default hidden behavior on the sphinx rendered scikit-learn.org. See: https://github.com/scikit-learn/scikit-learn/issues/21755 */display: inline-block !important;position: relative;}#sk-container-id-13 div.sk-text-repr-fallback {display: none;}</style><div id=\"sk-container-id-13\" class=\"sk-top-container\"><div class=\"sk-text-repr-fallback\"><pre>LinearRegression()</pre><b>In a Jupyter environment, please rerun this cell to show the HTML representation or trust the notebook. <br />On GitHub, the HTML representation is unable to render, please try loading this page with nbviewer.org.</b></div><div class=\"sk-container\" hidden><div class=\"sk-item\"><div class=\"sk-estimator sk-toggleable\"><input class=\"sk-toggleable__control sk-hidden--visually\" id=\"sk-estimator-id-13\" type=\"checkbox\" checked><label for=\"sk-estimator-id-13\" class=\"sk-toggleable__label sk-toggleable__label-arrow\">LinearRegression</label><div class=\"sk-toggleable__content\"><pre>LinearRegression()</pre></div></div></div></div></div>"
            ],
            "text/plain": [
              "LinearRegression()"
            ]
          },
          "execution_count": 196,
          "metadata": {},
          "output_type": "execute_result"
        }
      ],
      "source": [
        "# TO DO: ADD YOUR CODE HERE\n",
        "# Note: for any random state parameters, you can use random_state = 0\n",
        "from sklearn.model_selection import train_test_split\n",
        "from sklearn.linear_model import LinearRegression\n",
        "\n",
        "X_train, X_val, y_train, y_val = train_test_split(X, y, test_size=0.3, random_state=0)\n",
        "model = LinearRegression()\n",
        "model.fit(X_train, y_train)"
      ]
    },
    {
      "cell_type": "markdown",
      "id": "3f994e31",
      "metadata": {
        "id": "3f994e31"
      },
      "source": [
        "### Step 4: Validate Model (2 marks)\n",
        "\n",
        "Calculate the training and validation accuracy using mean squared error and R2 score."
      ]
    },
    {
      "cell_type": "code",
      "execution_count": 197,
      "id": "fdc93a78",
      "metadata": {
        "colab": {
          "base_uri": "https://localhost:8080/"
        },
        "id": "fdc93a78",
        "outputId": "7a23c4fd-e15b-4a07-c06b-d1958de1aa81"
      },
      "outputs": [
        {
          "name": "stdout",
          "output_type": "stream",
          "text": [
            "Training mean squared error: 113.41\n",
            "Validation mean squared error: 93.62\n",
            "Training R2 square score: 0.61\n",
            "Validation R2 square score: 0.64\n"
          ]
        }
      ],
      "source": [
        "# TO DO: ADD YOUR CODE HERE\n",
        "from sklearn.metrics import r2_score, mean_squared_error\n",
        "\n",
        "y_train_predict = model.predict(X_train)\n",
        "mean_squared_error_train = mean_squared_error(y_train, y_train_predict)\n",
        "r2_score_train = r2_score(y_train, y_train_predict)\n",
        "\n",
        "y_val_predict = model.predict(X_val)\n",
        "mean_squared_error_val = mean_squared_error(y_val, y_val_predict)\n",
        "r2_score_val = r2_score(y_val, y_val_predict)\n",
        "\n",
        "print(\"Training mean squared error: {:.2f}\".format(mean_squared_error_train))\n",
        "print(\"Validation mean squared error: {:.2f}\".format(mean_squared_error_val))\n",
        "\n",
        "print(\"Training R2 square score: {:.2f}\".format(r2_score_train))\n",
        "print(\"Validation R2 square score: {:.2f}\".format(r2_score_val))"
      ]
    },
    {
      "cell_type": "markdown",
      "id": "5fc3f7a8",
      "metadata": {
        "id": "5fc3f7a8"
      },
      "source": [
        "### Step 5: Visualize Results (1 mark)\n",
        "\n",
        "1. Create a pandas DataFrame `results` with columns: Training accuracy and Validation accuracy, and index: MSE and R2 score\n",
        "2. Add the accuracy results to the `results` DataFrame\n",
        "3. Print `results`"
      ]
    },
    {
      "cell_type": "code",
      "execution_count": 198,
      "id": "59ae0f09",
      "metadata": {
        "colab": {
          "base_uri": "https://localhost:8080/"
        },
        "id": "59ae0f09",
        "outputId": "cf2fc154-3dc8-48a1-9b3c-c89dd151f1dc"
      },
      "outputs": [
        {
          "name": "stdout",
          "output_type": "stream",
          "text": [
            "     Training accuracy  Validation accuracy\n",
            "MSE         113.410826            93.624364\n",
            "R2            0.606594             0.635277\n"
          ]
        }
      ],
      "source": [
        "# TO DO: ADD YOUR CODE HERE\n",
        "data = { 'Training accuracy': [mean_squared_error_train, r2_score_train], 'Validation accuracy': [mean_squared_error_val, r2_score_val]}\n",
        "index=[\"MSE\", \"R2\"]\n",
        "results = pd.DataFrame(data=data, index=index)\n",
        "print(results)"
      ]
    },
    {
      "cell_type": "markdown",
      "id": "a5257a98",
      "metadata": {
        "id": "a5257a98"
      },
      "source": [
        "### Questions (4 marks)\n",
        "1. Did using a linear model produce good results for this dataset? Why or why not?\n",
        "\n",
        "\n",
        "\n",
        "1. Could we tell if this model was a good fit by using just the mean squared error? Why or why not?\n",
        "\n",
        "   \n",
        "1.As we are trying to find a continuous value based on our features, I think a linear model is the best way to get good results.\n",
        "\n",
        "2.Looking at only mean squared error might not be helpful; the R-squared value mainly describes whether it was a good fit or not.Other validation matics like absolute mean square could also be helpful."
      ]
    },
    {
      "cell_type": "markdown",
      "id": "37b238f4",
      "metadata": {
        "id": "37b238f4"
      },
      "source": [
        "### Process Description (4 marks)\n",
        "Please describe the process you used to create your code. Cite any websites or generative AI tools used. You can use the following questions as guidance:\n",
        "1. Where did you source your code?\n",
        "1. In what order did you complete the steps?\n",
        "1. If you used generative AI, what prompts did you use? Did you need to modify the code at all? Why or why not?\n",
        "1. Did you have any challenges? If yes, what were they? If not, what helped you to be successful?"
      ]
    },
    {
      "cell_type": "markdown",
      "id": "93097bfe",
      "metadata": {
        "id": "93097bfe"
      },
      "source": [
        "*DESCRIBE YOUR PROCESS HERE - BE SPECIFIC*\n",
        "\n",
        "\n",
        "I mostly sourced my code from the examples that our professor provided and also searched on Google for relevant context. For further clarification, I consulted ChatGPT to check if I was heading in the correct direction for my answers. As for the steps, I followed them in order as the questions appeared. I sought a bit of help for classification, but I didn't find the response satisfactory. So, I tried to approach the regression task based on my previous knowledge and consulted websites like W3 Schools for guidance.\n"
      ]
    },
    {
      "cell_type": "markdown",
      "id": "4cd7358d",
      "metadata": {
        "id": "4cd7358d"
      },
      "source": [
        "## Part 3: Observations/Interpretation (3 marks)\n",
        "\n",
        "Describe any pattern you see in the results. Relate your findings to what we discussed during lectures. Include data to justify your findings.\n",
        "\n",
        "\n",
        "*ADD YOUR FINDINGS HERE*\n",
        "\n",
        "The model appears to perform moderately well, as indicated by the R-squared scores. Both the training and validation R-squared scores are relatively close, with values of 0.61 and 0.64, respectively. This suggests that the model explains approximately 61-64% of the variance in the target variable.\n",
        "\n",
        "The MSE values for both training and validation sets are quite high, with 113.41 for training and 93.62 for validation. This indicates that, on average, the squared differences between the predicted and actual values are large, suggesting that there might be considerable variability or noise in the data that the model is unable to capture effectively."
      ]
    },
    {
      "cell_type": "markdown",
      "id": "cd97b6ac",
      "metadata": {
        "id": "cd97b6ac"
      },
      "source": [
        "## Part 4: Reflection (2 marks)\n",
        "Include a sentence or two about:\n",
        "- what you liked or disliked,\n",
        "- found interesting, confusing, challangeing, motivating\n",
        "while working on this assignment.\n",
        "\n",
        "\n",
        "*ADD YOUR THOUGHTS HERE*\n",
        "\n",
        "\n",
        "I really liked the assignments because they provided good practice with linear models of machine learning. I also used linear regression in my undergraduate thesis, so it was comfortable for me. Overall, it was a good learning process, and I found it interesting as well."
      ]
    },
    {
      "cell_type": "code",
      "execution_count": 198,
      "id": "867c484f",
      "metadata": {
        "id": "867c484f"
      },
      "outputs": [],
      "source": []
    }
  ],
  "metadata": {
    "colab": {
      "provenance": []
    },
    "kernelspec": {
      "display_name": "Python 3 (ipykernel)",
      "language": "python",
      "name": "python3"
    },
    "language_info": {
      "codemirror_mode": {
        "name": "ipython",
        "version": 3
      },
      "file_extension": ".py",
      "mimetype": "text/x-python",
      "name": "python",
      "nbconvert_exporter": "python",
      "pygments_lexer": "ipython3",
      "version": "3.11.3"
    }
  },
  "nbformat": 4,
  "nbformat_minor": 5
}
